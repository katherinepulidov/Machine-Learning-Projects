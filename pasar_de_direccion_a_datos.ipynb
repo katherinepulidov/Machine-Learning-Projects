{
  "nbformat": 4,
  "nbformat_minor": 0,
  "metadata": {
    "colab": {
      "provenance": [],
      "authorship_tag": "ABX9TyPTbN+yy20HYGgWckne+b9b",
      "include_colab_link": true
    },
    "kernelspec": {
      "name": "python3",
      "display_name": "Python 3"
    },
    "language_info": {
      "name": "python"
    }
  },
  "cells": [
    {
      "cell_type": "markdown",
      "metadata": {
        "id": "view-in-github",
        "colab_type": "text"
      },
      "source": [
        "<a href=\"https://colab.research.google.com/github/katherinepulidov/Machine-Learning-Projects/blob/master/pasar_de_direccion_a_datos.ipynb\" target=\"_parent\"><img src=\"https://colab.research.google.com/assets/colab-badge.svg\" alt=\"Open In Colab\"/></a>"
      ]
    },
    {
      "cell_type": "markdown",
      "source": [
        "## Configuración de entorno"
      ],
      "metadata": {
        "id": "v9dPIEUdgZuW"
      }
    },
    {
      "cell_type": "code",
      "source": [
        "import requests\n",
        "import pandas as pd"
      ],
      "metadata": {
        "id": "RZdiJnJXgm1e"
      },
      "execution_count": null,
      "outputs": []
    },
    {
      "cell_type": "markdown",
      "source": [
        "## Configuración de la clave API y lectura del archivo"
      ],
      "metadata": {
        "id": "p-rE6DJAgsBz"
      }
    },
    {
      "cell_type": "code",
      "source": [
        "# Configuracion clave API del programa\n",
        "API_KEY = '35351db6cf894d729ced25a9b1a812d8'\n",
        "BASE_URL = 'https://api.opencagedata.com/geocode/v1/json'\n",
        "\n",
        "# Lectura archivo CSV\n",
        "df = pd.read_csv('/content/BD_MEDELLIN_REGISTRO1.csv', encoding='Windows-1252', delimiter=';')\n"
      ],
      "metadata": {
        "id": "1TYfXMBvgyzV"
      },
      "execution_count": null,
      "outputs": []
    },
    {
      "cell_type": "markdown",
      "source": [
        "## Geocodificación"
      ],
      "metadata": {
        "id": "Tm_ymT2cjSLm"
      }
    },
    {
      "cell_type": "code",
      "source": [
        "def geocode_address(row):\n",
        "    # COLUMNAS\n",
        "    address = f\"{row['DIRECCION']}, {row['MUNICIPIO']}, {row['DEPARTAMENTO']}\"\n",
        "    params = {\n",
        "        'q': address,\n",
        "        'key': API_KEY,\n",
        "        'pretty': 1\n",
        "    }\n",
        "    response = requests.get(BASE_URL, params=params)\n",
        "    data = response.json()\n",
        "    if data['results']:\n",
        "        result = data['results'][0]['geometry']\n",
        "        return result['lat'], result['lng']\n",
        "    else:\n",
        "        return None, None"
      ],
      "metadata": {
        "id": "6B-1YpwUjZZD"
      },
      "execution_count": null,
      "outputs": []
    },
    {
      "cell_type": "markdown",
      "source": [
        "## GEOCODIFICACION GUARDADA"
      ],
      "metadata": {
        "id": "R5PeVov3miep"
      }
    },
    {
      "cell_type": "code",
      "source": [
        "# Geocodificacion por  fila\n",
        "df[['lat', 'lng']] = df.apply(geocode_address, axis=1, result_type='expand')\n",
        "\n",
        "# Guarda el resultado en un nuevo archivo CSV\n",
        "df.to_csv('archivo_geocodificado.csv', index=False)"
      ],
      "metadata": {
        "id": "Yvou6XjpmngW"
      },
      "execution_count": null,
      "outputs": []
    },
    {
      "cell_type": "code",
      "source": [
        "# Muestra los nombres de las columnas\n",
        "print(df.columns)\n"
      ],
      "metadata": {
        "colab": {
          "base_uri": "https://localhost:8080/"
        },
        "id": "l6_X1QKvnFm4",
        "outputId": "4ac455eb-2536-4cc7-9527-fba93fd3324b"
      },
      "execution_count": null,
      "outputs": [
        {
          "output_type": "stream",
          "name": "stdout",
          "text": [
            "Index(['DIRECCION', 'MUNICIPIO', 'DEPARTAMENTO'], dtype='object')\n"
          ]
        }
      ]
    }
  ]
}